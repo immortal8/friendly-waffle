{
 "cells": [
  {
   "cell_type": "markdown",
   "id": "de18ab4d-2eb5-4553-9b0c-1c65ada17e23",
   "metadata": {},
   "source": [
    "# Data Science Tools and Ecosystem #"
   ]
  },
  {
   "cell_type": "markdown",
   "id": "3c03e072-e43d-458f-b33c-b00ffc7b99a1",
   "metadata": {},
   "source": [
    "**In this notebook, Data Science Tools and Ecosystems are summarized**"
   ]
  },
  {
   "cell_type": "markdown",
   "id": "ed386b0e-8929-4850-93e0-e5e7020480d4",
   "metadata": {},
   "source": [
    "**The key takeaway from this course are some popular languages, libraries and IDEs for Data Science applications. They include: **\n",
    "- Java\n",
    "- PHP\n",
    "- Python\n",
    "- C++\n",
    "- R\n"
   ]
  },
  {
   "cell_type": "markdown",
   "id": "0199d007-adc5-423e-8c08-eba07f73e3c1",
   "metadata": {},
   "source": [
    "Some of the commonly used libraries used by Data scientists include:\n",
    "- Python\n",
    "- R\n",
    "- C++\n",
    "- Java"
   ]
  },
  {
   "cell_type": "markdown",
   "id": "36f8af88-edbc-4c23-aa13-c6f8d5e9c055",
   "metadata": {},
   "source": [
    "Some of the commonly used libraries used by Data scientists include:\n",
    "- Panda Libraries\n",
    "- Numpy Libraries\n",
    "- PyTorch\n",
    "- Dlib"
   ]
  },
  {
   "cell_type": "markdown",
   "id": "ac186bfc-fc73-4dcc-b371-5d639ecd62a9",
   "metadata": {},
   "source": [
    "| **Data Science Tools** |\n",
    "| ----------------------- |\n",
    "| Anaconda |\n",
    "| Pycharm |\n",
    "| Atom |"
   ]
  },
  {
   "cell_type": "markdown",
   "id": "55ed56f2-61c2-40b5-ac96-279dc13ff328",
   "metadata": {},
   "source": [
    "### Below are a few examples of evaluating arithemetic expressions in Python ###"
   ]
  },
  {
   "cell_type": "code",
   "execution_count": 4,
   "id": "b2d530c9-b4d9-44ee-85bb-89200373e09c",
   "metadata": {},
   "outputs": [
    {
     "data": {
      "text/plain": [
       "17"
      ]
     },
     "execution_count": 4,
     "metadata": {},
     "output_type": "execute_result"
    }
   ],
   "source": [
    "\"This is a simple arithemetic expression to multiply then add intergers\"\n",
    "(3*4)+5"
   ]
  },
  {
   "cell_type": "code",
   "execution_count": 5,
   "id": "d14ddb03-69c7-4cce-bb94-1dd40089c9eb",
   "metadata": {},
   "outputs": [
    {
     "data": {
      "text/plain": [
       "3.3333333333333335"
      ]
     },
     "execution_count": 5,
     "metadata": {},
     "output_type": "execute_result"
    }
   ],
   "source": [
    "\"This will convert 200 minutes to hours by dividing by 60\"\n",
    "200/60"
   ]
  },
  {
   "cell_type": "markdown",
   "id": "7362b6e5-4c4a-46d5-b09f-7b7623784f3b",
   "metadata": {},
   "source": [
    "## Author ## \n",
    "Nnadozie "
   ]
  }
 ],
 "metadata": {
  "kernelspec": {
   "display_name": "Python",
   "language": "python",
   "name": "conda-env-python-py"
  },
  "language_info": {
   "codemirror_mode": {
    "name": "ipython",
    "version": 3
   },
   "file_extension": ".py",
   "mimetype": "text/x-python",
   "name": "python",
   "nbconvert_exporter": "python",
   "pygments_lexer": "ipython3",
   "version": "3.7.12"
  }
 },
 "nbformat": 4,
 "nbformat_minor": 5
}
